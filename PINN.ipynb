{
 "cells": [
  {
   "cell_type": "code",
   "execution_count": 110,
   "id": "24000de2",
   "metadata": {},
   "outputs": [],
   "source": [
    "import tensorflow as tf\n",
    "import numpy as np\n",
    "import pandas as pd\n",
    "import matplotlib.pyplot as plt\n",
    "%matplotlib inline"
   ]
  },
  {
   "cell_type": "markdown",
   "id": "3af03644",
   "metadata": {},
   "source": [
    "### Defining the boundary/initial conditions"
   ]
  },
  {
   "cell_type": "code",
   "execution_count": 111,
   "id": "9d899c45",
   "metadata": {},
   "outputs": [],
   "source": [
    "tmin = 0.0\n",
    "tmax = 1.0\n",
    "nt = 5000\n",
    "t_0 = tf.zeros((1,1), dtype='float32')\n",
    "t_pts = tf.random.uniform((nt,1), tmin, tmax, dtype='float32')"
   ]
  },
  {
   "cell_type": "code",
   "execution_count": 112,
   "id": "a5742cb3",
   "metadata": {},
   "outputs": [
    {
     "data": {
      "text/plain": [
       "<tf.Tensor: shape=(1, 1), dtype=float32, numpy=array([[0.]], dtype=float32)>"
      ]
     },
     "execution_count": 112,
     "metadata": {},
     "output_type": "execute_result"
    }
   ],
   "source": [
    "t_0"
   ]
  },
  {
   "cell_type": "markdown",
   "id": "9d2cec2e",
   "metadata": {},
   "source": [
    "### Define the residual function for training"
   ]
  },
  {
   "cell_type": "code",
   "execution_count": 113,
   "id": "457de9fd",
   "metadata": {},
   "outputs": [],
   "source": [
    "def residual(t,x,x_t):\n",
    "    return x_t + x\n",
    "\n",
    "x_0 = tf.ones((1,1), dtype='float32')*5.0 #initial condition"
   ]
  },
  {
   "cell_type": "markdown",
   "id": "49766380",
   "metadata": {},
   "source": [
    "### Define training model and loss function. "
   ]
  },
  {
   "cell_type": "code",
   "execution_count": 114,
   "id": "8eb8a5ad",
   "metadata": {},
   "outputs": [],
   "source": [
    "def init_model(num_hidden_layers, num_array):\n",
    "    # Initialize a feedforward neural network\n",
    "    model = tf.keras.Sequential()\n",
    "\n",
    "    model.add(tf.keras.Input(1))\n",
    "\n",
    "    #scaling_layer = tf.keras.layers.Lambda(\n",
    "    #            lambda x: 2.0*(x - lb)/(ub - lb) - 1.0)\n",
    "    #model.add(scaling_layer)\n",
    "\n",
    "    # Append hidden layers\n",
    "    for i in range(num_hidden_layers):\n",
    "        model.add(tf.keras.layers.Dense(num_array[i],\n",
    "            activation=tf.keras.activations.get('relu'),\n",
    "            kernel_initializer='he_uniform'))\n",
    "\n",
    "    # Output is one-dimensional\n",
    "    model.add(tf.keras.layers.Dense(1))\n",
    "    \n",
    "    return model"
   ]
  },
  {
   "cell_type": "code",
   "execution_count": 115,
   "id": "59bb04bf",
   "metadata": {},
   "outputs": [],
   "source": [
    "def find_res(model, t):\n",
    "    \n",
    "    with tf.GradientTape(persistent=True) as tape:\n",
    "        tape.watch(t) \n",
    "        x = model(t)\n",
    "            \n",
    "    x_t = tape.gradient(x, t)\n",
    "\n",
    "    del tape\n",
    "\n",
    "    return residual(t, x, x_t)"
   ]
  },
  {
   "cell_type": "code",
   "execution_count": 116,
   "id": "21395ca6",
   "metadata": {},
   "outputs": [],
   "source": [
    "def loss_func(model, t_pts, t_0):\n",
    "    \n",
    "    lf = find_res(model, t_pts)\n",
    "    L_res = tf.reduce_mean(tf.square(lf))\n",
    "    \n",
    "    init_pred = model(t_0)\n",
    "    L_init = tf.reduce_mean(tf.square(x_0 - init_pred))\n",
    "    \n",
    "    loss_tot = L_res + L_init\n",
    "    \n",
    "    return loss_tot"
   ]
  },
  {
   "cell_type": "code",
   "execution_count": 117,
   "id": "19c110fc",
   "metadata": {},
   "outputs": [],
   "source": [
    "def gradient_loss(model, t_pts, t_0):\n",
    "    \n",
    "    with tf.GradientTape(persistent=True) as tape:\n",
    "        tape.watch(model.trainable_variables)\n",
    "        loss = loss_func(model, t_pts, t_0)\n",
    "\n",
    "    grad = tape.gradient(loss, model.trainable_variables)\n",
    "    del tape\n",
    "\n",
    "    return loss, grad"
   ]
  },
  {
   "cell_type": "markdown",
   "id": "b0fdff9a",
   "metadata": {},
   "source": [
    "### Model initialization and training"
   ]
  },
  {
   "cell_type": "code",
   "execution_count": 118,
   "id": "e02988f7",
   "metadata": {},
   "outputs": [],
   "source": [
    "model = init_model(4,[32,32,16,8])\n",
    "\n",
    "# We choose a piecewise decay of the learning rate, i.e., the\n",
    "# step size in the gradient descent type algorithm\n",
    "# the first 1000 steps use a learning rate of 0.01\n",
    "# from 1000 - 3000: learning rate = 0.001\n",
    "# from 3000 onwards: learning rate = 0.0005\n",
    "\n",
    "lr = tf.keras.optimizers.schedules.PiecewiseConstantDecay([100],[1e-2,1e-3])\n",
    "\n",
    "optim = tf.keras.optimizers.Adam(learning_rate=lr)"
   ]
  },
  {
   "cell_type": "code",
   "execution_count": 119,
   "id": "f1f114d1",
   "metadata": {},
   "outputs": [
    {
     "name": "stdout",
     "output_type": "stream",
     "text": [
      "It 00000: loss = 2.58869305e+01\n",
      "It 00050: loss = 8.53749275e-01\n",
      "It 00100: loss = 1.32722795e-01\n",
      "It 00150: loss = 1.01530515e-01\n",
      "It 00200: loss = 8.92433152e-02\n",
      "It 00250: loss = 7.82765970e-02\n",
      "It 00300: loss = 7.33101815e-02\n",
      "It 00350: loss = 6.62090704e-02\n",
      "It 00400: loss = 5.82147837e-02\n",
      "It 00450: loss = 5.03975376e-02\n",
      "It 00500: loss = 4.42422591e-02\n",
      "\n",
      "Computation time: 6.81104302406311 seconds\n"
     ]
    }
   ],
   "source": [
    "from time import time\n",
    "\n",
    "# Define one training step as a TensorFlow function to increase speed of training\n",
    "@tf.function\n",
    "def train_step():\n",
    "    # Compute current loss and gradient w.r.t. parameters\n",
    "    loss, grad_theta = gradient_loss(model, t_pts, t_0)\n",
    "    \n",
    "    # Perform gradient descent step\n",
    "    optim.apply_gradients(zip(grad_theta, model.trainable_variables))\n",
    "    \n",
    "    return loss\n",
    "\n",
    "# Number of training epochs\n",
    "N = 500\n",
    "hist = []\n",
    "\n",
    "# Start timer\n",
    "t0 = time()\n",
    "\n",
    "for i in range(N+1):\n",
    "    \n",
    "    loss = train_step()\n",
    "    \n",
    "    # Append current loss to hist\n",
    "    hist.append(loss.numpy())\n",
    "    \n",
    "    # Output current loss after 50 iterates\n",
    "    if i%50 == 0:\n",
    "        print('It {:05d}: loss = {:10.8e}'.format(i,loss))\n",
    "        \n",
    "# Print computation time\n",
    "print('\\nComputation time: {} seconds'.format(time()-t0))"
   ]
  },
  {
   "cell_type": "code",
   "execution_count": 120,
   "id": "24b23163",
   "metadata": {},
   "outputs": [
    {
     "data": {
      "text/plain": [
       "<tf.Tensor: shape=(1, 1), dtype=float32, numpy=array([[0.]], dtype=float32)>"
      ]
     },
     "execution_count": 120,
     "metadata": {},
     "output_type": "execute_result"
    }
   ],
   "source": [
    "t_0"
   ]
  },
  {
   "cell_type": "code",
   "execution_count": 124,
   "id": "cce637bd",
   "metadata": {},
   "outputs": [],
   "source": [
    "t_test = np.linspace(tmin,tmax,100)\n",
    "x_pred = model(tf.cast(t_test,'float32'))"
   ]
  },
  {
   "cell_type": "code",
   "execution_count": 125,
   "id": "e7b59556",
   "metadata": {},
   "outputs": [],
   "source": [
    "x_plt = np.reshape(x_pred.numpy(),(100,))\n",
    "x_actual = 5.0*np.exp(-1.0*t_test)"
   ]
  },
  {
   "cell_type": "code",
   "execution_count": 128,
   "id": "1bc78f5b",
   "metadata": {},
   "outputs": [
    {
     "data": {
      "text/plain": [
       "[<matplotlib.lines.Line2D at 0x2623662dfc8>]"
      ]
     },
     "execution_count": 128,
     "metadata": {},
     "output_type": "execute_result"
    },
    {
     "data": {
      "image/png": "[encoded data removed]",
      "text/plain": [
       "<Figure size 640x480 with 1 Axes>"
      ]
     },
     "metadata": {},
     "output_type": "display_data"
    }
   ],
   "source": [
    "plt.scatter(t_test,x_pred,s=5)\n",
    "plt.plot(t_test,x_actual,c='r')"
   ]
  }
 ],
 "metadata": {
  "kernelspec": {
   "display_name": "Python 3 (ipykernel)",
   "language": "python",
   "name": "python3"
  },
  "language_info": {
   "codemirror_mode": {
    "name": "ipython",
    "version": 3
   },
   "file_extension": ".py",
   "mimetype": "text/x-python",
   "name": "python",
   "nbconvert_exporter": "python",
   "pygments_lexer": "ipython3",
   "version": "3.7.9"
  }
 },
 "nbformat": 4,
 "nbformat_minor": 5
}
